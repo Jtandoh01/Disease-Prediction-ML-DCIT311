{
  "nbformat": 4,
  "nbformat_minor": 0,
  "metadata": {
    "colab": {
      "provenance": [],
      "authorship_tag": "ABX9TyMr3hdLcM6UxS9ZiKPIIiYx",
      "include_colab_link": true
    },
    "kernelspec": {
      "name": "python3",
      "display_name": "Python 3"
    },
    "language_info": {
      "name": "python"
    }
  },
  "cells": [
    {
      "cell_type": "markdown",
      "metadata": {
        "id": "view-in-github",
        "colab_type": "text"
      },
      "source": [
        "<a href=\"https://colab.research.google.com/github/Jtandoh01/Disease-Prediction-ML-DCIT311/blob/preview/End_of_semester_project_DCIT313.ipynb\" target=\"_parent\"><img src=\"https://colab.research.google.com/assets/colab-badge.svg\" alt=\"Open In Colab\"/></a>"
      ]
    },
    {
      "cell_type": "markdown",
      "source": [
        "# Basic Library Imports"
      ],
      "metadata": {
        "id": "jdc2O_f4bt2F"
      }
    },
    {
      "cell_type": "code",
      "execution_count": 3,
      "metadata": {
        "id": "dSRfFiT9KF9w"
      },
      "outputs": [],
      "source": [
        "import pandas as pd\n",
        "import seaborn as sns\n",
        "import matplotlib.pyplot as plt\n",
        "import numpy as np\n",
        "data = pd .read_csv(\"./diabetes.csv\")\n"
      ]
    },
    {
      "cell_type": "markdown",
      "source": [
        "# Learning some infomation about the dataset"
      ],
      "metadata": {
        "id": "0dF5eW6Wc81i"
      }
    },
    {
      "cell_type": "code",
      "source": [
        "print(data.columns)\n",
        "print(data.shape)\n",
        "print(data.dtypes )\n",
        "print(data.isnull().values.any())\n",
        "print(data.describe().T)"
      ],
      "metadata": {
        "colab": {
          "base_uri": "https://localhost:8080/"
        },
        "id": "O-Oo32oEdASI",
        "outputId": "2bb5812b-be83-40d1-e6fe-d497d849635a"
      },
      "execution_count": 5,
      "outputs": [
        {
          "output_type": "stream",
          "name": "stdout",
          "text": [
            "Index(['Pregnancies', 'Glucose', 'BloodPressure', 'SkinThickness', 'Insulin',\n",
            "       'BMI', 'DiabetesPedigreeFunction', 'Age', 'Outcome'],\n",
            "      dtype='object')\n",
            "(2000, 9)\n",
            "Pregnancies                   int64\n",
            "Glucose                       int64\n",
            "BloodPressure                 int64\n",
            "SkinThickness                 int64\n",
            "Insulin                       int64\n",
            "BMI                         float64\n",
            "DiabetesPedigreeFunction    float64\n",
            "Age                           int64\n",
            "Outcome                       int64\n",
            "dtype: object\n",
            "False\n",
            "                           count       mean         std     min     25%  \\\n",
            "Pregnancies               2000.0    3.70350    3.306063   0.000   1.000   \n",
            "Glucose                   2000.0  121.18250   32.068636   0.000  99.000   \n",
            "BloodPressure             2000.0   69.14550   19.188315   0.000  63.500   \n",
            "SkinThickness             2000.0   20.93500   16.103243   0.000   0.000   \n",
            "Insulin                   2000.0   80.25400  111.180534   0.000   0.000   \n",
            "BMI                       2000.0   32.19300    8.149901   0.000  27.375   \n",
            "DiabetesPedigreeFunction  2000.0    0.47093    0.323553   0.078   0.244   \n",
            "Age                       2000.0   33.09050   11.786423  21.000  24.000   \n",
            "Outcome                   2000.0    0.34200    0.474498   0.000   0.000   \n",
            "\n",
            "                              50%      75%     max  \n",
            "Pregnancies                 3.000    6.000   17.00  \n",
            "Glucose                   117.000  141.000  199.00  \n",
            "BloodPressure              72.000   80.000  122.00  \n",
            "SkinThickness              23.000   32.000  110.00  \n",
            "Insulin                    40.000  130.000  744.00  \n",
            "BMI                        32.300   36.800   80.60  \n",
            "DiabetesPedigreeFunction    0.376    0.624    2.42  \n",
            "Age                        29.000   40.000   81.00  \n",
            "Outcome                     0.000    1.000    1.00  \n"
          ]
        }
      ]
    }
  ]
}